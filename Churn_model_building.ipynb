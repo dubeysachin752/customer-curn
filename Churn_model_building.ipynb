{
  "nbformat": 4,
  "nbformat_minor": 0,
  "metadata": {
    "colab": {
      "name": "Churn_model_building.ipynb",
      "provenance": [],
      "collapsed_sections": []
    },
    "kernelspec": {
      "name": "python3",
      "display_name": "Python 3"
    },
    "language_info": {
      "name": "python"
    }
  },
  "cells": [
    {
      "cell_type": "code",
      "metadata": {
        "id": "Do6-KSCKtPLH"
      },
      "source": [
        "import pandas as pd\n",
        "import numpy as np\n",
        "import matplotlib.pyplot as plt\n",
        "import seaborn as sns\n",
        "import warnings\n",
        "warnings.filterwarnings('ignore')\n",
        "from lightgbm import LGBMClassifier"
      ],
      "execution_count": 1,
      "outputs": []
    },
    {
      "cell_type": "code",
      "metadata": {
        "id": "XPlgOkQntQNR"
      },
      "source": [
        "train = pd.read_csv('https://raw.githubusercontent.com/dubeysachin752/customer-curn/main/train.csv')\n",
        "test=pd.read_csv('https://raw.githubusercontent.com/dubeysachin752/customer-curn/main/test.csv')\n",
        "sample=pd.read_csv('https://raw.githubusercontent.com/dubeysachin752/customer-curn/main/test.csv')"
      ],
      "execution_count": 2,
      "outputs": []
    },
    {
      "cell_type": "code",
      "metadata": {
        "colab": {
          "base_uri": "https://localhost:8080/"
        },
        "id": "Beot_cgMtTLo",
        "outputId": "f5b2d4d2-5f4d-4bd7-907e-c04b83cb9426"
      },
      "source": [
        "train.isna().sum()"
      ],
      "execution_count": 3,
      "outputs": [
        {
          "output_type": "execute_result",
          "data": {
            "text/plain": [
              "ID                     0\n",
              "STATE                  0\n",
              "AGE                    0\n",
              "OCCUPATION             0\n",
              "INCOME_GROUP           0\n",
              "CUSTOMER_SINCE         0\n",
              "LOYALTY_PROGRAM    17824\n",
              "PAST_PURCHASE          0\n",
              "PURCHASE               0\n",
              "dtype: int64"
            ]
          },
          "metadata": {
            "tags": []
          },
          "execution_count": 3
        }
      ]
    },
    {
      "cell_type": "code",
      "metadata": {
        "colab": {
          "base_uri": "https://localhost:8080/"
        },
        "id": "Th6kgxr6uIUw",
        "outputId": "a81ee459-3475-4b7c-b4c8-db9d5a6684bc"
      },
      "source": [
        "train.columns"
      ],
      "execution_count": 4,
      "outputs": [
        {
          "output_type": "execute_result",
          "data": {
            "text/plain": [
              "Index(['ID', 'STATE', 'AGE', 'OCCUPATION', 'INCOME_GROUP', 'CUSTOMER_SINCE',\n",
              "       'LOYALTY_PROGRAM', 'PAST_PURCHASE', 'PURCHASE'],\n",
              "      dtype='object')"
            ]
          },
          "metadata": {
            "tags": []
          },
          "execution_count": 4
        }
      ]
    },
    {
      "cell_type": "code",
      "metadata": {
        "colab": {
          "base_uri": "https://localhost:8080/"
        },
        "id": "duajALHFtZtO",
        "outputId": "60df89de-0b6b-45ce-9c8a-90533e98b3c7"
      },
      "source": [
        "train['STATE'].unique()"
      ],
      "execution_count": 5,
      "outputs": [
        {
          "output_type": "execute_result",
          "data": {
            "text/plain": [
              "array(['Uttar Pradesh', 'Madhya Pradesh', 'West Bengal', 'Tamil Nadu',\n",
              "       'Maharashtra', 'Kerala', 'Goa', 'Karnataka', 'Andhra Pradesh',\n",
              "       'Telangana', 'Chandigarh', 'Nagaland',\n",
              "       'Andaman and Nicobar Islands', 'Tripura', 'Delhi',\n",
              "       'Himachal Pradesh', ' ', 'Puducherry', 'Sikkim', 'Gujarat',\n",
              "       'Odisha', 'Bihar', 'Punjab', 'Arunachal Pradesh', 'Haryana',\n",
              "       'Rajasthan', 'Uttarakhand', 'Jammu and Kashmir', 'Assam',\n",
              "       'Manipur', 'Mizoram', 'Jharkhand', 'Chhattisgarh', 'Meghalaya'],\n",
              "      dtype=object)"
            ]
          },
          "metadata": {
            "tags": []
          },
          "execution_count": 5
        }
      ]
    },
    {
      "cell_type": "code",
      "metadata": {
        "id": "gbd5q16ovIVV"
      },
      "source": [
        "train['STATE'].replace(' ','Other',inplace =True)\n",
        "test['STATE'].replace(' ','Other',inplace =True)"
      ],
      "execution_count": 6,
      "outputs": []
    },
    {
      "cell_type": "code",
      "metadata": {
        "colab": {
          "base_uri": "https://localhost:8080/"
        },
        "id": "IQ_xO3iGtgTr",
        "outputId": "530cd952-bbf3-49b2-daef-e352f51b2a42"
      },
      "source": [
        "train['INCOME_GROUP'].unique()"
      ],
      "execution_count": 7,
      "outputs": [
        {
          "output_type": "execute_result",
          "data": {
            "text/plain": [
              "array(['Low', 'High', 'Medium', ' '], dtype=object)"
            ]
          },
          "metadata": {
            "tags": []
          },
          "execution_count": 7
        }
      ]
    },
    {
      "cell_type": "code",
      "metadata": {
        "id": "CZbSigPevTxX"
      },
      "source": [
        "train['INCOME_GROUP'].replace(' ','Other',inplace =True)\n",
        "test['INCOME_GROUP'].replace(' ','Other',inplace =True)"
      ],
      "execution_count": 8,
      "outputs": []
    },
    {
      "cell_type": "code",
      "metadata": {
        "colab": {
          "base_uri": "https://localhost:8080/"
        },
        "id": "GXsWxOaUtjE8",
        "outputId": "080eb70d-3c84-46e3-f478-79762dc651a9"
      },
      "source": [
        "train['LOYALTY_PROGRAM'].unique()"
      ],
      "execution_count": 9,
      "outputs": [
        {
          "output_type": "execute_result",
          "data": {
            "text/plain": [
              "array(['No', nan, 'Yes'], dtype=object)"
            ]
          },
          "metadata": {
            "tags": []
          },
          "execution_count": 9
        }
      ]
    },
    {
      "cell_type": "code",
      "metadata": {
        "id": "BdoIHi89vbhd"
      },
      "source": [
        "most_freq = train['LOYALTY_PROGRAM'].mode()[0]     #dealling with null values\n",
        "#print(most_freq)\n",
        "train['LOYALTY_PROGRAM'] = train['LOYALTY_PROGRAM'].fillna(most_freq)\n",
        "test['LOYALTY_PROGRAM'] = test['LOYALTY_PROGRAM'].fillna(most_freq)"
      ],
      "execution_count": 10,
      "outputs": []
    },
    {
      "cell_type": "code",
      "metadata": {
        "colab": {
          "base_uri": "https://localhost:8080/"
        },
        "id": "sWkwR63WtsV4",
        "outputId": "45701659-3dba-48ca-bc31-c095d5b9c3b4"
      },
      "source": [
        "train['OCCUPATION'].unique()"
      ],
      "execution_count": 11,
      "outputs": [
        {
          "output_type": "execute_result",
          "data": {
            "text/plain": [
              "array([' ', 'Salaried', 'Self employed', 'Business'], dtype=object)"
            ]
          },
          "metadata": {
            "tags": []
          },
          "execution_count": 11
        }
      ]
    },
    {
      "cell_type": "code",
      "metadata": {
        "id": "6Sm9H3Wrv0SX"
      },
      "source": [
        "train['OCCUPATION'].replace(' ','Unemployed',inplace =True)\n",
        "test['OCCUPATION'].replace(' ','Unemployed',inplace =True)"
      ],
      "execution_count": 12,
      "outputs": []
    },
    {
      "cell_type": "code",
      "metadata": {
        "colab": {
          "base_uri": "https://localhost:8080/"
        },
        "id": "HhhDvInwuClT",
        "outputId": "0ab8d32c-0e94-4350-ee03-0656308a6ce8"
      },
      "source": [
        "\n",
        "train['PAST_PURCHASE'].unique()"
      ],
      "execution_count": 13,
      "outputs": [
        {
          "output_type": "execute_result",
          "data": {
            "text/plain": [
              "array([ 4937, 10834,  8610, ..., 17084, 23510, 29447])"
            ]
          },
          "metadata": {
            "tags": []
          },
          "execution_count": 13
        }
      ]
    },
    {
      "cell_type": "code",
      "metadata": {
        "id": "jaQgnZXavEKG"
      },
      "source": [
        "train['PAST_PURCHASE'].replace(' ',0,inplace =True)\n",
        "test['PAST_PURCHASE'].replace(' ',0,inplace =True)"
      ],
      "execution_count": 14,
      "outputs": []
    },
    {
      "cell_type": "code",
      "metadata": {
        "id": "J7kOa5FUw58v"
      },
      "source": [
        "train['CUSTOMER_SINCE'].replace(2008,1,inplace =True)\n",
        "train['CUSTOMER_SINCE'].replace(2009,2,inplace =True)\n",
        "train['CUSTOMER_SINCE'].replace(2010,3,inplace =True)\n",
        "train['CUSTOMER_SINCE'].replace(2011,4,inplace =True)\n",
        "train['CUSTOMER_SINCE'].replace(2012,5,inplace =True)\n",
        "train['CUSTOMER_SINCE'].replace(2013,6,inplace =True)\n",
        "train['CUSTOMER_SINCE'].replace(2014,7,inplace =True)\n",
        "train['CUSTOMER_SINCE'].replace(2015,8,inplace =True)\n",
        "train['CUSTOMER_SINCE'].replace(2016,9,inplace =True)\n",
        "train['CUSTOMER_SINCE'].replace(2017,10,inplace =True)\n",
        "train['CUSTOMER_SINCE'].replace(2018,11,inplace =True)\n",
        "train['CUSTOMER_SINCE'].replace(2019,12,inplace =True)\n",
        "\n",
        "\n",
        "\n",
        "test['CUSTOMER_SINCE'].replace(2008,1,inplace =True)\n",
        "test['CUSTOMER_SINCE'].replace(2009,2,inplace =True)\n",
        "test['CUSTOMER_SINCE'].replace(2010,3,inplace =True)\n",
        "test['CUSTOMER_SINCE'].replace(2011,4,inplace =True)\n",
        "test['CUSTOMER_SINCE'].replace(2012,5,inplace =True)\n",
        "test['CUSTOMER_SINCE'].replace(2013,6,inplace =True)\n",
        "test['CUSTOMER_SINCE'].replace(2014,7,inplace =True)\n",
        "test['CUSTOMER_SINCE'].replace(2015,8,inplace =True)\n",
        "test['CUSTOMER_SINCE'].replace(2016,9,inplace =True)\n",
        "test['CUSTOMER_SINCE'].replace(2017,10,inplace =True)\n",
        "test['CUSTOMER_SINCE'].replace(2018,11,inplace =True)\n",
        "test['CUSTOMER_SINCE'].replace(2019,12,inplace =True)"
      ],
      "execution_count": 15,
      "outputs": []
    },
    {
      "cell_type": "code",
      "metadata": {
        "id": "aNcOZ6M6xEbP"
      },
      "source": [
        "train['PURCHASE'].replace('No',0,inplace =True)\n",
        "train['PURCHASE'].replace('Yes',1,inplace =True)"
      ],
      "execution_count": 16,
      "outputs": []
    },
    {
      "cell_type": "code",
      "metadata": {
        "colab": {
          "base_uri": "https://localhost:8080/"
        },
        "id": "_wHQtMi-yt7W",
        "outputId": "2705a7b5-178a-40fb-c4a2-e8930df27cac"
      },
      "source": [
        "from sklearn import preprocessing \n",
        "\n",
        "cat_columns = []\n",
        "for col in train.select_dtypes('object').columns:\n",
        "    print(col)\n",
        "    cat_columns.append(col)\n",
        "    le = preprocessing.LabelEncoder()\n",
        "    train[col] = le.fit_transform(train[col])"
      ],
      "execution_count": 17,
      "outputs": [
        {
          "output_type": "stream",
          "text": [
            "STATE\n",
            "OCCUPATION\n",
            "INCOME_GROUP\n",
            "LOYALTY_PROGRAM\n"
          ],
          "name": "stdout"
        }
      ]
    },
    {
      "cell_type": "code",
      "metadata": {
        "id": "PCNQGOJlyuZq"
      },
      "source": [
        "cat_columns = []\n",
        "for col in test.select_dtypes('object').columns:\n",
        "    #print(col)\n",
        "    cat_columns.append(col)\n",
        "    le = preprocessing.LabelEncoder()\n",
        "    test[col] = le.fit_transform(test[col])"
      ],
      "execution_count": 18,
      "outputs": []
    },
    {
      "cell_type": "code",
      "metadata": {
        "colab": {
          "base_uri": "https://localhost:8080/",
          "height": 309
        },
        "id": "x8XKO0tFx-wb",
        "outputId": "2b26d4de-5cc9-4e48-a32f-432c7a852314"
      },
      "source": [
        " sns.distplot(train['PAST_PURCHASE'])"
      ],
      "execution_count": 19,
      "outputs": [
        {
          "output_type": "execute_result",
          "data": {
            "text/plain": [
              "<matplotlib.axes._subplots.AxesSubplot at 0x7efe0ad84d10>"
            ]
          },
          "metadata": {
            "tags": []
          },
          "execution_count": 19
        },
        {
          "output_type": "display_data",
          "data": {
            "image/png": "[encoded data removed]",
            "text/plain": [
              "<Figure size 432x288 with 1 Axes>"
            ]
          },
          "metadata": {
            "tags": [],
            "needs_background": "light"
          }
        }
      ]
    },
    {
      "cell_type": "code",
      "metadata": {
        "colab": {
          "base_uri": "https://localhost:8080/",
          "height": 298
        },
        "id": "NEPmPaMv1nOW",
        "outputId": "d23e7a30-2125-4bc0-a710-2cd77c4d74fe"
      },
      "source": [
        "train['PAST_PURCHASE']=np.log(train['PAST_PURCHASE'])\n",
        "sns.distplot(train['PAST_PURCHASE'])"
      ],
      "execution_count": 20,
      "outputs": [
        {
          "output_type": "execute_result",
          "data": {
            "text/plain": [
              "<matplotlib.axes._subplots.AxesSubplot at 0x7efdeb720550>"
            ]
          },
          "metadata": {
            "tags": []
          },
          "execution_count": 20
        },
        {
          "output_type": "display_data",
          "data": {
            "image/png": "[encoded data removed]",
            "text/plain": [
              "<Figure size 432x288 with 1 Axes>"
            ]
          },
          "metadata": {
            "tags": [],
            "needs_background": "light"
          }
        }
      ]
    },
    {
      "cell_type": "code",
      "metadata": {
        "colab": {
          "base_uri": "https://localhost:8080/",
          "height": 283
        },
        "id": "vMp3pEh-3Ohc",
        "outputId": "e87b4b5e-61ae-4877-b4fc-7f44783e4b13"
      },
      "source": [
        "sns.distplot(train)"
      ],
      "execution_count": 21,
      "outputs": [
        {
          "output_type": "execute_result",
          "data": {
            "text/plain": [
              "<matplotlib.axes._subplots.AxesSubplot at 0x7efdeb1cc590>"
            ]
          },
          "metadata": {
            "tags": []
          },
          "execution_count": 21
        },
        {
          "output_type": "display_data",
          "data": {
            "image/png": "[encoded data removed]",
            "text/plain": [
              "<Figure size 432x288 with 1 Axes>"
            ]
          },
          "metadata": {
            "tags": [],
            "needs_background": "light"
          }
        }
      ]
    },
    {
      "cell_type": "code",
      "metadata": {
        "id": "N-LU4pLFx_ap"
      },
      "source": [
        "X=train.drop(['PURCHASE','ID'],axis=1)\n",
        "y=train['PURCHASE']"
      ],
      "execution_count": 22,
      "outputs": []
    },
    {
      "cell_type": "code",
      "metadata": {
        "id": "ogmqkNxFxUG1"
      },
      "source": [
        "from sklearn.model_selection import train_test_split,cross_val_score, StratifiedKFold, GridSearchCV, RandomizedSearchCV\n",
        "X_train , X_test, y_train, y_test = train_test_split(X,y, test_size=0.2,  \n",
        "                                                       random_state=100,stratify=y)"
      ],
      "execution_count": 23,
      "outputs": []
    },
    {
      "cell_type": "code",
      "metadata": {
        "colab": {
          "base_uri": "https://localhost:8080/"
        },
        "id": "sZiLk3s041zd",
        "outputId": "aadb96f3-4ab4-4a90-d578-4f67b9d286b2"
      },
      "source": [
        "X_train.shape,X_test.shape"
      ],
      "execution_count": 24,
      "outputs": [
        {
          "output_type": "execute_result",
          "data": {
            "text/plain": [
              "((120000, 7), (30000, 7))"
            ]
          },
          "metadata": {
            "tags": []
          },
          "execution_count": 24
        }
      ]
    },
    {
      "cell_type": "code",
      "metadata": {
        "colab": {
          "base_uri": "https://localhost:8080/"
        },
        "id": "9IWZZ1Pf44Lt",
        "outputId": "4c176c4d-e562-4e28-e633-1d21eaff1672"
      },
      "source": [
        "y_train.shape,y_test.shape"
      ],
      "execution_count": 25,
      "outputs": [
        {
          "output_type": "execute_result",
          "data": {
            "text/plain": [
              "((120000,), (30000,))"
            ]
          },
          "metadata": {
            "tags": []
          },
          "execution_count": 25
        }
      ]
    },
    {
      "cell_type": "code",
      "metadata": {
        "colab": {
          "base_uri": "https://localhost:8080/"
        },
        "id": "PirGz6YX46Re",
        "outputId": "56ebe498-feab-4af2-b10c-545950b419a1"
      },
      "source": [
        "y_train.value_counts()/len(y_train)"
      ],
      "execution_count": 26,
      "outputs": [
        {
          "output_type": "execute_result",
          "data": {
            "text/plain": [
              "0    0.763583\n",
              "1    0.236417\n",
              "Name: PURCHASE, dtype: float64"
            ]
          },
          "metadata": {
            "tags": []
          },
          "execution_count": 26
        }
      ]
    },
    {
      "cell_type": "code",
      "metadata": {
        "colab": {
          "base_uri": "https://localhost:8080/"
        },
        "id": "YIa4pUWg4-WJ",
        "outputId": "e99b8a18-1b0b-4416-9407-6f578c98dc7a"
      },
      "source": [
        "y_test.value_counts()/len(y_test)"
      ],
      "execution_count": 27,
      "outputs": [
        {
          "output_type": "execute_result",
          "data": {
            "text/plain": [
              "0    0.763567\n",
              "1    0.236433\n",
              "Name: PURCHASE, dtype: float64"
            ]
          },
          "metadata": {
            "tags": []
          },
          "execution_count": 27
        }
      ]
    },
    {
      "cell_type": "code",
      "metadata": {
        "id": "8BicboKg5CfY"
      },
      "source": [
        "from sklearn.preprocessing import StandardScaler\n",
        "Scaler_X = StandardScaler()\n",
        "X_train = Scaler_X.fit_transform(X_train)\n",
        "X_test = Scaler_X.transform(X_test)"
      ],
      "execution_count": 28,
      "outputs": []
    },
    {
      "cell_type": "code",
      "metadata": {
        "id": "1TFR_T9g5Mvf"
      },
      "source": [
        "from collections import Counter"
      ],
      "execution_count": 29,
      "outputs": []
    },
    {
      "cell_type": "markdown",
      "metadata": {
        "id": "HDIHdBaa7sgT"
      },
      "source": [
        "A) **SMOTE Technique**"
      ]
    },
    {
      "cell_type": "code",
      "metadata": {
        "colab": {
          "base_uri": "https://localhost:8080/"
        },
        "id": "N5t3b5kO6_Pv",
        "outputId": "cc944dd0-1e9b-4bf2-839c-44f99e8cac37"
      },
      "source": [
        "from imblearn.over_sampling import SMOTE\n",
        "\n",
        "counter = Counter(y_train)\n",
        "print('Before',counter)\n",
        "# oversampling the train dataset using SMOTE\n",
        "smt = SMOTE()\n",
        "#X_train, y_train = smt.fit_resample(X_train, y_train)\n",
        "X_train_sm, y_train_sm = smt.fit_resample(X_train, y_train)\n",
        "\n",
        "counter = Counter(y_train_sm)\n",
        "print('After',counter)"
      ],
      "execution_count": 30,
      "outputs": [
        {
          "output_type": "stream",
          "text": [
            "Before Counter({0: 91630, 1: 28370})\n",
            "After Counter({1: 91630, 0: 91630})\n"
          ],
          "name": "stdout"
        }
      ]
    },
    {
      "cell_type": "markdown",
      "metadata": {
        "id": "0DUVQxE98GXK"
      },
      "source": [
        "ADASYN Technique"
      ]
    },
    {
      "cell_type": "code",
      "metadata": {
        "colab": {
          "base_uri": "https://localhost:8080/"
        },
        "id": "-yfCNRUv6_lw",
        "outputId": "78527e21-db37-4c15-b739-7abbe4add74c"
      },
      "source": [
        "from imblearn.over_sampling import ADASYN\n",
        "\n",
        "counter = Counter(y_train)\n",
        "print('Before',counter)\n",
        "# oversampling the train dataset using ADASYN\n",
        "ada = ADASYN(random_state=130)\n",
        "X_train_ada, y_train_ada = ada.fit_resample(X_train, y_train)\n",
        "\n",
        "counter = Counter(y_train_ada)\n",
        "print('After',counter)"
      ],
      "execution_count": 31,
      "outputs": [
        {
          "output_type": "stream",
          "text": [
            "Before Counter({0: 91630, 1: 28370})\n",
            "After Counter({0: 91630, 1: 91494})\n"
          ],
          "name": "stdout"
        }
      ]
    },
    {
      "cell_type": "code",
      "metadata": {
        "colab": {
          "base_uri": "https://localhost:8080/"
        },
        "id": "RjyRexmU6_3I",
        "outputId": "be98b303-20dd-4830-fc7c-3dbdc621e766"
      },
      "source": [
        "from imblearn.combine import SMOTEENN\n",
        "\n",
        "counter = Counter(y_train)\n",
        "print('Before',counter)\n",
        "# oversampling the train dataset using SMOTE + ENN\n",
        "smenn = SMOTEENN()\n",
        "X_train_smenn, y_train_smenn = smenn.fit_resample(X_train, y_train)\n",
        "\n",
        "counter = Counter(y_train_smenn)\n",
        "print('After',counter)"
      ],
      "execution_count": 32,
      "outputs": [
        {
          "output_type": "stream",
          "text": [
            "Before Counter({0: 91630, 1: 28370})\n",
            "After Counter({1: 57978, 0: 47711})\n"
          ],
          "name": "stdout"
        }
      ]
    },
    {
      "cell_type": "code",
      "metadata": {
        "id": "aVhfM3-S5aLH"
      },
      "source": [
        "from sklearn.linear_model import LogisticRegression\n",
        "from sklearn.metrics import f1_score,roc_auc_score,accuracy_score"
      ],
      "execution_count": 33,
      "outputs": []
    },
    {
      "cell_type": "code",
      "metadata": {
        "id": "f8i9pMyk51Yk"
      },
      "source": [
        "model=LogisticRegression()          #model_1 logistic regsn\n",
        "model.fit(X_train,y_train)\n",
        "pred_logistics=model.predict(X_test)"
      ],
      "execution_count": 34,
      "outputs": []
    },
    {
      "cell_type": "code",
      "metadata": {
        "colab": {
          "base_uri": "https://localhost:8080/"
        },
        "id": "oDQdrGvz58D0",
        "outputId": "4578e3c9-d29d-426b-d1d7-67e5c0f1a665"
      },
      "source": [
        "roc_auc_score(y_test,pred_logistics)"
      ],
      "execution_count": 44,
      "outputs": [
        {
          "output_type": "execute_result",
          "data": {
            "text/plain": [
              "0.5371729912929059"
            ]
          },
          "metadata": {
            "tags": []
          },
          "execution_count": 44
        }
      ]
    },
    {
      "cell_type": "code",
      "metadata": {
        "id": "P7N1TybQ9ytv"
      },
      "source": [
        "       #model_1 logistic smote\n",
        "model.fit(X_train_sm,y_train_sm)\n",
        "pred_logistics_sm=model.predict(X_test)"
      ],
      "execution_count": 45,
      "outputs": []
    },
    {
      "cell_type": "code",
      "metadata": {
        "colab": {
          "base_uri": "https://localhost:8080/"
        },
        "id": "5e3Zqh9h9y95",
        "outputId": "19b7de35-16ab-4f1c-eedb-d9c7d248cf32"
      },
      "source": [
        "roc_auc_score(y_test,pred_logistics_sm)"
      ],
      "execution_count": 46,
      "outputs": [
        {
          "output_type": "execute_result",
          "data": {
            "text/plain": [
              "0.6596333124201119"
            ]
          },
          "metadata": {
            "tags": []
          },
          "execution_count": 46
        }
      ]
    },
    {
      "cell_type": "code",
      "metadata": {
        "colab": {
          "base_uri": "https://localhost:8080/"
        },
        "id": "Ku-HGWKc9zMW",
        "outputId": "85c30360-2997-4ae5-94e1-a8b73f8df242"
      },
      "source": [
        "model.fit(X_train_ada,y_train_ada)\n",
        "pred_logistics_ada=model.predict(X_test)\n",
        "roc_auc_score(y_test,pred_logistics_ada)"
      ],
      "execution_count": 47,
      "outputs": [
        {
          "output_type": "execute_result",
          "data": {
            "text/plain": [
              "0.6596144084795119"
            ]
          },
          "metadata": {
            "tags": []
          },
          "execution_count": 47
        }
      ]
    },
    {
      "cell_type": "code",
      "metadata": {
        "id": "yyz1nJ0k9zUz"
      },
      "source": [
        "model.fit(X_train_smenn,y_train_smenn)\n",
        "pred_logistics__smenn=model.predict(X_test)\n"
      ],
      "execution_count": 48,
      "outputs": []
    },
    {
      "cell_type": "code",
      "metadata": {
        "colab": {
          "base_uri": "https://localhost:8080/"
        },
        "id": "0QdOGqg59zmS",
        "outputId": "9454eab2-e2b6-49fa-9626-9f74ca6f68bf"
      },
      "source": [
        "roc_auc_score(y_test,pred_logistics__smenn)"
      ],
      "execution_count": 49,
      "outputs": [
        {
          "output_type": "execute_result",
          "data": {
            "text/plain": [
              "0.6658074262002684"
            ]
          },
          "metadata": {
            "tags": []
          },
          "execution_count": 49
        }
      ]
    },
    {
      "cell_type": "code",
      "metadata": {
        "id": "ME5DcXbm6M-5"
      },
      "source": [
        "from sklearn.tree import DecisionTreeClassifier"
      ],
      "execution_count": 50,
      "outputs": []
    },
    {
      "cell_type": "code",
      "metadata": {
        "id": "e9aI3a0n6XdA"
      },
      "source": [
        "tree_model = DecisionTreeClassifier()\n",
        "tree_model.fit(X_train,y_train)\n",
        "pred_tree=tree_model.predict(X_test)\n"
      ],
      "execution_count": 51,
      "outputs": []
    },
    {
      "cell_type": "code",
      "metadata": {
        "colab": {
          "base_uri": "https://localhost:8080/"
        },
        "id": "HcSDEK146nN-",
        "outputId": "67a4c241-7736-4625-fc33-c81ffa89e8c3"
      },
      "source": [
        "roc_auc_score(y_test,pred_tree)"
      ],
      "execution_count": 52,
      "outputs": [
        {
          "output_type": "execute_result",
          "data": {
            "text/plain": [
              "0.6027574174640814"
            ]
          },
          "metadata": {
            "tags": []
          },
          "execution_count": 52
        }
      ]
    },
    {
      "cell_type": "code",
      "metadata": {
        "id": "o0rbhrlJ6sjn"
      },
      "source": [
        "       #model_1 logistic smote\n",
        "tree_model.fit(X_train_sm,y_train_sm)\n",
        "tree_model_sm=tree_model.predict(X_test)"
      ],
      "execution_count": 53,
      "outputs": []
    },
    {
      "cell_type": "code",
      "metadata": {
        "colab": {
          "base_uri": "https://localhost:8080/"
        },
        "id": "64_RJu3m-s8A",
        "outputId": "4e8a9136-59cc-4fb1-eab7-6271162b4663"
      },
      "source": [
        "roc_auc_score(y_test,tree_model_sm)"
      ],
      "execution_count": 54,
      "outputs": [
        {
          "output_type": "execute_result",
          "data": {
            "text/plain": [
              "0.6019845377151956"
            ]
          },
          "metadata": {
            "tags": []
          },
          "execution_count": 54
        }
      ]
    },
    {
      "cell_type": "code",
      "metadata": {
        "id": "IHNm3GFI-6Bu"
      },
      "source": [
        "tree_model.fit(X_train_ada,y_train_ada)\n",
        "tree_model_ada=tree_model.predict(X_test)"
      ],
      "execution_count": 55,
      "outputs": []
    },
    {
      "cell_type": "code",
      "metadata": {
        "colab": {
          "base_uri": "https://localhost:8080/"
        },
        "id": "hyC_vHSD_I3m",
        "outputId": "25c8d7d2-10a9-4dc0-a650-53eab7505f05"
      },
      "source": [
        "roc_auc_score(y_test,tree_model_ada)"
      ],
      "execution_count": 56,
      "outputs": [
        {
          "output_type": "execute_result",
          "data": {
            "text/plain": [
              "0.6036548730429137"
            ]
          },
          "metadata": {
            "tags": []
          },
          "execution_count": 56
        }
      ]
    },
    {
      "cell_type": "code",
      "metadata": {
        "colab": {
          "base_uri": "https://localhost:8080/"
        },
        "id": "q69GZlsR_P66",
        "outputId": "7aaa74c3-1010-4876-9444-c319ec31c38c"
      },
      "source": [
        "from xgboost import XGBClassifier     #model_2 XGBoost\n",
        "\n",
        "xgb = XGBClassifier(random_state=101)\n",
        "xgb.fit(X_train,y_train)"
      ],
      "execution_count": 82,
      "outputs": [
        {
          "output_type": "execute_result",
          "data": {
            "text/plain": [
              "XGBClassifier(base_score=0.5, booster='gbtree', colsample_bylevel=1,\n",
              "              colsample_bynode=1, colsample_bytree=1, gamma=0,\n",
              "              learning_rate=0.1, max_delta_step=0, max_depth=3,\n",
              "              min_child_weight=1, missing=None, n_estimators=100, n_jobs=1,\n",
              "              nthread=None, objective='binary:logistic', random_state=101,\n",
              "              reg_alpha=0, reg_lambda=1, scale_pos_weight=1, seed=None,\n",
              "              silent=None, subsample=1, verbosity=1)"
            ]
          },
          "metadata": {
            "tags": []
          },
          "execution_count": 82
        }
      ]
    },
    {
      "cell_type": "code",
      "metadata": {
        "colab": {
          "base_uri": "https://localhost:8080/"
        },
        "id": "m58HWr-L_a-W",
        "outputId": "d1567d4c-cf42-4753-9316-79f1be2aaa6c"
      },
      "source": [
        "pred_xgb=xgb.predict(X_test)\n",
        "roc_auc_score(y_test,pred_xgb)"
      ],
      "execution_count": 83,
      "outputs": [
        {
          "output_type": "execute_result",
          "data": {
            "text/plain": [
              "0.5669180787163534"
            ]
          },
          "metadata": {
            "tags": []
          },
          "execution_count": 83
        }
      ]
    },
    {
      "cell_type": "code",
      "metadata": {
        "id": "YRHZ_y-B_fPM"
      },
      "source": [
        "xgb.fit(X_train_sm,y_train_sm)\n",
        "pred_xgb_sm=xgb.predict(X_test)\n"
      ],
      "execution_count": 84,
      "outputs": []
    },
    {
      "cell_type": "code",
      "metadata": {
        "colab": {
          "base_uri": "https://localhost:8080/"
        },
        "id": "5lLemthF_rjr",
        "outputId": "03d1d309-2e31-49cb-a435-05ac0f5e106f"
      },
      "source": [
        "roc_auc_score(y_test,pred_xgb_sm)"
      ],
      "execution_count": 85,
      "outputs": [
        {
          "output_type": "execute_result",
          "data": {
            "text/plain": [
              "0.6939610344701586"
            ]
          },
          "metadata": {
            "tags": []
          },
          "execution_count": 85
        }
      ]
    },
    {
      "cell_type": "code",
      "metadata": {
        "id": "cA0zbgG0_0yE"
      },
      "source": [
        "xgb.fit(X_train_ada,y_train_ada)\n",
        "pred_xgb_ada=xgb.predict(X_test)"
      ],
      "execution_count": 86,
      "outputs": []
    },
    {
      "cell_type": "code",
      "metadata": {
        "colab": {
          "base_uri": "https://localhost:8080/"
        },
        "id": "nvNyVuxK_0cF",
        "outputId": "3ff5d339-e995-4269-9cf0-a9d26d1253be"
      },
      "source": [
        "roc_auc_score(y_test,pred_xgb_ada)"
      ],
      "execution_count": 87,
      "outputs": [
        {
          "output_type": "execute_result",
          "data": {
            "text/plain": [
              "0.6927280100964953"
            ]
          },
          "metadata": {
            "tags": []
          },
          "execution_count": 87
        }
      ]
    },
    {
      "cell_type": "code",
      "metadata": {
        "id": "Pez_J9qS4mL_"
      },
      "source": [
        "xgb.fit(X_train_smenn,y_train_smenn)\n",
        "pred_xgb_smenn=xgb.predict(X_test)"
      ],
      "execution_count": 64,
      "outputs": []
    },
    {
      "cell_type": "code",
      "metadata": {
        "colab": {
          "base_uri": "https://localhost:8080/"
        },
        "id": "Zv4tgCD14pc2",
        "outputId": "5d4ee5e0-40ca-4d6e-dcdf-e6bcd33f49ae"
      },
      "source": [
        "roc_auc_score(y_test,pred_xgb_smenn)"
      ],
      "execution_count": 65,
      "outputs": [
        {
          "output_type": "execute_result",
          "data": {
            "text/plain": [
              "0.702484739122327"
            ]
          },
          "metadata": {
            "tags": []
          },
          "execution_count": 65
        }
      ]
    },
    {
      "cell_type": "code",
      "metadata": {
        "colab": {
          "base_uri": "https://localhost:8080/"
        },
        "id": "QWFZo-fC_0R2",
        "outputId": "6b5a4eee-c948-4473-edc7-0388c5033e57"
      },
      "source": [
        "from sklearn.ensemble import RandomForestClassifier      #model_3 RFoost\n",
        "\n",
        "rand_forst=RandomForestClassifier(random_state=101)\n",
        "rand_forst.fit(X_train,y_train)"
      ],
      "execution_count": 66,
      "outputs": [
        {
          "output_type": "execute_result",
          "data": {
            "text/plain": [
              "RandomForestClassifier(bootstrap=True, ccp_alpha=0.0, class_weight=None,\n",
              "                       criterion='gini', max_depth=None, max_features='auto',\n",
              "                       max_leaf_nodes=None, max_samples=None,\n",
              "                       min_impurity_decrease=0.0, min_impurity_split=None,\n",
              "                       min_samples_leaf=1, min_samples_split=2,\n",
              "                       min_weight_fraction_leaf=0.0, n_estimators=100,\n",
              "                       n_jobs=None, oob_score=False, random_state=101,\n",
              "                       verbose=0, warm_start=False)"
            ]
          },
          "metadata": {
            "tags": []
          },
          "execution_count": 66
        }
      ]
    },
    {
      "cell_type": "code",
      "metadata": {
        "colab": {
          "base_uri": "https://localhost:8080/"
        },
        "id": "zjF1NIFt_0Iz",
        "outputId": "df6b5d31-534b-43aa-9d3d-e784a01e11a5"
      },
      "source": [
        "pred_rand=rand_forst.predict(X_test)\n",
        "roc_auc_score(y_test,pred_rand)"
      ],
      "execution_count": 67,
      "outputs": [
        {
          "output_type": "execute_result",
          "data": {
            "text/plain": [
              "0.6043345040195292"
            ]
          },
          "metadata": {
            "tags": []
          },
          "execution_count": 67
        }
      ]
    },
    {
      "cell_type": "code",
      "metadata": {
        "colab": {
          "base_uri": "https://localhost:8080/"
        },
        "id": "RmAiLhLa_0Bs",
        "outputId": "958159cf-8fa4-4305-d914-0534fd514af4"
      },
      "source": [
        "rand_forst.fit(X_train_sm,y_train_sm)\n",
        "pred_rand_sm=rand_forst.predict(X_test)\n",
        "roc_auc_score(y_test,pred_rand_sm)"
      ],
      "execution_count": 68,
      "outputs": [
        {
          "output_type": "execute_result",
          "data": {
            "text/plain": [
              "0.6261281256594877"
            ]
          },
          "metadata": {
            "tags": []
          },
          "execution_count": 68
        }
      ]
    },
    {
      "cell_type": "code",
      "metadata": {
        "id": "VWKa-TdWAjE1"
      },
      "source": [
        "rand_forst.fit(X_train_ada,y_train_ada)\n",
        "pred_rand_ada=rand_forst.predict(X_test)\n"
      ],
      "execution_count": 69,
      "outputs": []
    },
    {
      "cell_type": "code",
      "metadata": {
        "colab": {
          "base_uri": "https://localhost:8080/"
        },
        "id": "E6YxqZZ3AqUn",
        "outputId": "19bc2e1c-a77b-4ff3-a6bd-c2f4a29b987b"
      },
      "source": [
        "roc_auc_score(y_test,pred_rand_ada)"
      ],
      "execution_count": 70,
      "outputs": [
        {
          "output_type": "execute_result",
          "data": {
            "text/plain": [
              "0.6259635447460644"
            ]
          },
          "metadata": {
            "tags": []
          },
          "execution_count": 70
        }
      ]
    },
    {
      "cell_type": "code",
      "metadata": {
        "id": "fBVa5g4g5Ffv"
      },
      "source": [
        "rand_forst.fit(X_train_smenn,y_train_smenn)\n",
        "pred_rand_smemm=rand_forst.predict(X_test)"
      ],
      "execution_count": 71,
      "outputs": []
    },
    {
      "cell_type": "code",
      "metadata": {
        "colab": {
          "base_uri": "https://localhost:8080/"
        },
        "id": "okbE4HZw5FMB",
        "outputId": "01b08b6e-234c-4f7c-b73d-8a3938b5e01b"
      },
      "source": [
        "roc_auc_score(y_test,pred_rand_smemm)"
      ],
      "execution_count": 73,
      "outputs": [
        {
          "output_type": "execute_result",
          "data": {
            "text/plain": [
              "0.6880382880160569"
            ]
          },
          "metadata": {
            "tags": []
          },
          "execution_count": 73
        }
      ]
    },
    {
      "cell_type": "code",
      "metadata": {
        "colab": {
          "base_uri": "https://localhost:8080/"
        },
        "id": "wcXsTrTuB6vx",
        "outputId": "b2790629-bd69-424c-ff5c-ccbd26300144"
      },
      "source": [
        "cat_col=['STATE','OCCUPATION','INCOME_GROUP','LOYALTY_PROGRAM' ]\n",
        "cat_features_index = [i for i,col in enumerate(X.columns) if col in cat_columns]\n",
        "cat_features_index"
      ],
      "execution_count": 78,
      "outputs": [
        {
          "output_type": "execute_result",
          "data": {
            "text/plain": [
              "[0, 2, 3, 5]"
            ]
          },
          "metadata": {
            "tags": []
          },
          "execution_count": 78
        }
      ]
    },
    {
      "cell_type": "code",
      "metadata": {
        "id": "6nDL9hJJ-QXl"
      },
      "source": [
        "from lightgbm import LGBMClassifier"
      ],
      "execution_count": 74,
      "outputs": []
    },
    {
      "cell_type": "code",
      "metadata": {
        "id": "WP8q8y7X-QDm"
      },
      "source": [
        "lgb = LGBMClassifier()                #model_5 LGboost\n",
        "lgb.fit(X_train, y_train)\n",
        "y_pred_lg = lgb.predict(X_test)\n"
      ],
      "execution_count": 75,
      "outputs": []
    },
    {
      "cell_type": "code",
      "metadata": {
        "colab": {
          "base_uri": "https://localhost:8080/"
        },
        "id": "G0YD1aXR-e9z",
        "outputId": "91f2c69e-982d-4fdd-ad25-3293a64d6246"
      },
      "source": [
        "roc_auc_score(y_test,y_pred_lg)"
      ],
      "execution_count": 77,
      "outputs": [
        {
          "output_type": "execute_result",
          "data": {
            "text/plain": [
              "0.5775405669856474"
            ]
          },
          "metadata": {
            "tags": []
          },
          "execution_count": 77
        }
      ]
    },
    {
      "cell_type": "code",
      "metadata": {
        "colab": {
          "base_uri": "https://localhost:8080/"
        },
        "id": "liDKfy6xB6Xd",
        "outputId": "71a3bd31-cb59-4e82-c2aa-ef18727cc406"
      },
      "source": [
        "lgb.fit(X_train_sm, y_train_sm)    #somte\n",
        "y_pred_lg_sm = lgb.predict(X_test)\n",
        "roc_auc_score(y_test,y_pred_lg_sm)\n"
      ],
      "execution_count": 78,
      "outputs": [
        {
          "output_type": "execute_result",
          "data": {
            "text/plain": [
              "0.6486046186878233"
            ]
          },
          "metadata": {
            "tags": []
          },
          "execution_count": 78
        }
      ]
    },
    {
      "cell_type": "code",
      "metadata": {
        "colab": {
          "base_uri": "https://localhost:8080/"
        },
        "id": "sSG5kn7_8Y1T",
        "outputId": "3353edce-8a9c-4481-a5e2-d05f457f68ad"
      },
      "source": [
        "lgb.fit(X_train_ada, y_train_ada)    #somte\n",
        "y_pred_lg_ada = lgb.predict(X_test)\n",
        "roc_auc_score(y_test,y_pred_lg_ada)\n"
      ],
      "execution_count": 79,
      "outputs": [
        {
          "output_type": "execute_result",
          "data": {
            "text/plain": [
              "0.6434604696322304"
            ]
          },
          "metadata": {
            "tags": []
          },
          "execution_count": 79
        }
      ]
    },
    {
      "cell_type": "code",
      "metadata": {
        "colab": {
          "base_uri": "https://localhost:8080/"
        },
        "id": "rBTkK5Xi8roV",
        "outputId": "0eacb7e1-3a2d-418f-fd24-41e689b7735a"
      },
      "source": [
        "lgb.fit(X_train_smenn, y_train_smenn)    #somte\n",
        "y_pred_lg_smenn = lgb.predict(X_test)\n",
        "roc_auc_score(y_test,y_pred_lg_smenn)\n"
      ],
      "execution_count": 80,
      "outputs": [
        {
          "output_type": "execute_result",
          "data": {
            "text/plain": [
              "0.703288536646112"
            ]
          },
          "metadata": {
            "tags": []
          },
          "execution_count": 80
        }
      ]
    },
    {
      "cell_type": "code",
      "metadata": {
        "id": "5t3MihUuEbNo"
      },
      "source": [
        "import pickle"
      ],
      "execution_count": 81,
      "outputs": []
    },
    {
      "cell_type": "code",
      "metadata": {
        "id": "3h9u85rlHFP4"
      },
      "source": [
        "with open('Churn_model_pickle.pkl','wb') as file:\n",
        "    pickle.dump(xgb,file)"
      ],
      "execution_count": 88,
      "outputs": []
    },
    {
      "cell_type": "code",
      "metadata": {
        "id": "Omfka-djIUyO"
      },
      "source": [
        ""
      ],
      "execution_count": null,
      "outputs": []
    }
  ]
}